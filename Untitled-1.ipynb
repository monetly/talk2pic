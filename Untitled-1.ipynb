{
 "cells": [
  {
   "cell_type": "code",
   "execution_count": null,
   "metadata": {},
   "outputs": [
    {
     "name": "stderr",
     "output_type": "stream",
     "text": [
      "Loading checkpoint shards: 100%|██████████| 2/2 [00:00<00:00, 10.66it/s]it/s]\n",
      "Loading pipeline components...:  71%|███████▏  | 5/7 [00:00<00:00,  7.41it/s]You set `add_prefix_space`. The tokenizer needs to be converted from the slow tokenizers\n",
      "Loading pipeline components...: 100%|██████████| 7/7 [00:00<00:00,  8.69it/s]\n"
     ]
    },
    {
     "name": "stdout",
     "output_type": "stream",
     "text": [
      "Model Lora has been loaded: /home/dictmanage/.cache/modelscope/hub/models/lip421/ertongchahuaMAILANDFLUX/\n",
      "Model has been loaded: /home/dictmanage/.cache/modelscope/hub/models/black-forest-labs/FLUX.1-dev/\n"
     ]
    }
   ],
   "source": [
    "from flux import flux\n",
    "from sd import sd\n",
    "model_id=\"/home/dictmanage/.cache/modelscope/hub/models/black-forest-labs/FLUX.1-dev/\"\n",
    "adapter_id = \"/home/dictmanage/.cache/modelscope/hub/models/yiwanji/FLUX_xiao_hong_shu_ji_zhi_zhen_shi_V2/\"\n",
    "Child_Il=\"/home/dictmanage/.cache/modelscope/hub/models/lip421/ertongchahuaMAILANDFLUX/\"\n",
    "\n",
    "\n",
    "a=flux('good morning')\n",
    "a.load_model(model_id,Child_Il)\n",
    "\n"
   ]
  },
  {
   "cell_type": "code",
   "execution_count": 5,
   "metadata": {},
   "outputs": [
    {
     "name": "stderr",
     "output_type": "stream",
     "text": [
      "100%|██████████| 20/20 [01:01<00:00,  3.06s/it]\n"
     ]
    },
    {
     "name": "stdout",
     "output_type": "stream",
     "text": [
      "\n"
     ]
    }
   ],
   "source": [
    "a.generated_pic(\"A high school student A lively school cafeteria Cheerful Rich warm browns Books on desk, sunlight through windows\")"
   ]
  },
  {
   "cell_type": "code",
   "execution_count": null,
   "metadata": {},
   "outputs": [
    {
     "name": "stdout",
     "output_type": "stream",
     "text": [
      "最佳匹配结果: {'Main Subject': 'A high school student', 'Environment/Background': 'A rainy city café', 'Mood': 'Cheerful', 'Color Scheme': 'Warm golden lights', 'Details': 'Desk, books, friendly expression'}\n"
     ]
    }
   ],
   "source": [
    "from sentence_transformers import SentenceTransformer\n",
    "from sklearn.metrics.pairwise import cosine_similarity\n",
    "import pandas as pd\n",
    "model = SentenceTransformer(\"/home/dictmanage/.cache/modelscope/hub/models/sentence-transformers/all-mpnet-base-v2/\")\n",
    "csv_path = \"ai_prompts_no_style.csv\"\n",
    "df = pd.read_csv(csv_path)\n",
    "categories = [\"Main Subject\", \"Environment/Background\",  \"Mood\", \"Color Scheme\", \"Details\",\"time\"]\n",
    "\n",
    "embeddings = {col: model.encode(df[col].dropna().tolist()) for col in categories}\n",
    "\n",
    "user_input = \"how are you,good morning\"\n",
    "user_vector = model.encode(user_input)\n",
    "best_matches = {}\n",
    "for col, vectors in embeddings.items():\n",
    "    similarities = cosine_similarity([user_vector], vectors)[0]\n",
    "    best_match = df[col].dropna().tolist()[similarities.argmax()]\n",
    "    best_matches[col] = best_match\n",
    "\n",
    "print(\"最佳匹配结果:\", best_matches)\n"
   ]
  },
  {
   "cell_type": "code",
   "execution_count": 6,
   "metadata": {},
   "outputs": [
    {
     "data": {
      "text/plain": [
       "'A high school student A rainy city café Cheerful Warm golden lights Desk, books, friendly expression'"
      ]
     },
     "execution_count": 6,
     "metadata": {},
     "output_type": "execute_result"
    }
   ],
   "source": [
    "a=[i for i in best_matches.values()]\n",
    "a=\" \".join(a)\n",
    "a"
   ]
  },
  {
   "cell_type": "code",
   "execution_count": 9,
   "metadata": {},
   "outputs": [
    {
     "name": "stdout",
     "output_type": "stream",
     "text": [
      "CSV 文件 'ai_prompts.csv' 生成成功！\n"
     ]
    }
   ],
   "source": [
    "import csv\n",
    "\n",
    "csv_filename = \"ai_prompts.csv\"\n",
    "\n",
    "data_string = \"\"\"Main Subject\\tEnvironment/Background\\tMood\\tColor Scheme\\tDetails\n",
    "A young student\\tA cozy classroom\\tCheerful\\tPastel tones\\tBooks on desk, sunlight through windows\n",
    "A child reading\\tA magical library\\tWhimsical\\tSoft warm tones\\tGlowing book pages, floating letters\n",
    "A group of students\\tA futuristic high-tech lab\\tFocused\\tNeon blue & purple\\tHolographic screens, AI assistant\n",
    "A high school student\\tA rainy city café\\tNostalgic\\tCool blues & grays\\tRaindrops on window, open notebook\n",
    "A university scholar\\tA grand historical library\\tThoughtful\\tRich warm browns\\tAncient books, candle-lit ambiance\n",
    "A science fair winner\\tA school science exhibition\\tExcited\\tBright vibrant hues\\tColorful experiment boards, trophies\n",
    "A student artist\\tAn open-air art class\\tCreative\\tEarthy & natural\\tCanvas, brushes, splashes of paint\n",
    "A coding student\\tA dark room with a laptop\\tDetermined\\tHigh contrast, neon\\tComputer screen glow, coffee cup\n",
    "A music student\\tA grand concert hall\\tPassionate\\tWarm golden lights\\tViolin, grand piano, musical notes\n",
    "A student athlete\\tA track & field stadium\\tEnergetic\\tBright reds & yellows\\tMotion blur, sweat droplets\n",
    "\n",
    "# 新增内容\n",
    "A group of young students\\tA colorful elementary classroom\\tCheerful\\tBright primary colors\\tChalkboard, alphabet posters, small desks\n",
    "Children playing\\tA school playground\\tPlayful\\tVibrant greens & blues\\tSwings, slides, kids laughing\n",
    "Kids doing science experiments\\tA fun school science lab\\tCurious\\tSoft pastels\\tBeakers, bubbling liquids, excited faces\n",
    "A teacher reading to kids\\tA cozy reading corner\\tWarm & engaging\\tSoft warm tones\\tBean bags, picture books, attentive kids\n",
    "Children painting\\tAn outdoor art class\\tCreative\\tEarthy tones\\tPaintbrushes, easels, colorful canvases\n",
    "A group of kids in a music class\\tA bright music room\\tJoyful\\tWarm yellows & reds\\tXylophones, tambourines, singing children\n",
    "Kids playing with building blocks\\tA kindergarten playroom\\tFun & engaging\\tBright blues & reds\\tLego blocks, toy cars, scattered pieces\n",
    "Students watching a puppet show\\tA small school theater\\tMagical\\tRich, deep colors\\tPuppets, stage curtains, kids clapping\n",
    "\n",
    "# 双人对话场景\n",
    "Two students discussing homework\\tA quiet school library\\tFocused\\tMuted warm tones\\tTextbooks, notes, pens\n",
    "A teacher and student talking\\tA teacher’s office\\tEncouraging\\tNeutral beige & brown\\tDesk, books, friendly expression\n",
    "Two friends sharing a book\\tA sunny schoolyard bench\\tRelaxed\\tWarm yellows & greens\\tOpen book, laughing students\n",
    "A student helping another with math\\tA cozy classroom\\tSupportive\\tSoft blues & whites\\tNotebook, pencil, explaining expressions\n",
    "\"\"\"\n",
    "\n",
    "# 将数据字符串按行分割\n",
    "data_lines = data_string.strip().split('\\n')\n",
    "\n",
    "# 初始化 CSV writer\n",
    "with open(csv_filename, 'w', newline='', encoding='utf-8') as csvfile:\n",
    "    csvwriter = csv.writer(csvfile, delimiter='\\t')\n",
    "    \n",
    "    # 逐行处理数据并写入CSV\n",
    "    for line in data_lines:\n",
    "        row = line.split('\\t')\n",
    "        csvwriter.writerow(row)\n",
    "\n",
    "print(f\"CSV 文件 '{csv_filename}' 生成成功！\")\n"
   ]
  }
 ],
 "metadata": {
  "kernelspec": {
   "display_name": "talk2pic",
   "language": "python",
   "name": "python3"
  },
  "language_info": {
   "codemirror_mode": {
    "name": "ipython",
    "version": 3
   },
   "file_extension": ".py",
   "mimetype": "text/x-python",
   "name": "python",
   "nbconvert_exporter": "python",
   "pygments_lexer": "ipython3",
   "version": "3.12.9"
  }
 },
 "nbformat": 4,
 "nbformat_minor": 2
}
